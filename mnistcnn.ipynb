{
 "cells": [
  {
   "cell_type": "markdown",
   "metadata": {},
   "source": [
    "# Deep Learning Model Iteration Process on the MNIST Dataset Using Keras - Ken Chua"
   ]
  },
  {
   "cell_type": "markdown",
   "metadata": {},
   "source": [
    "The MNIST dataset is a set of tens of thousands of images of labeled handwritten digits 0-9. The task for the classifier is to look at the images and output what number it sees. Here is a sampling of the dataset:\n",
    "\n",
    "<img src=\"https://files.readme.io/DhKHDNzS0OJhH2uiMOkl_mnist.png\"/>\n",
    "\n",
    "Let's start with a single fully connected layer as our baseline network."
   ]
  },
  {
   "cell_type": "code",
   "execution_count": 184,
   "metadata": {},
   "outputs": [],
   "source": [
    "import matplotlib.pyplot as plt\n",
    "import numpy as np\n",
    "from keras import backend as K\n",
    "from keras import Model\n",
    "from keras.layers import BatchNormalization, Conv2D, Dense, Dropout, Flatten, Input, MaxPooling2D, Softmax\n",
    "from keras.optimizers import Adam\n",
    "from keras.utils.np_utils import to_categorical"
   ]
  },
  {
   "cell_type": "code",
   "execution_count": 97,
   "metadata": {},
   "outputs": [],
   "source": [
    "np.random.seed(0)"
   ]
  },
  {
   "cell_type": "code",
   "execution_count": 98,
   "metadata": {},
   "outputs": [],
   "source": [
    "DATASETS_DIR = \"/datasets/\"\n",
    "IMAGE_WIDTH = 28\n",
    "TRAIN_X_COUNT = 50000\n",
    "DEV_X_COUNT = 10000\n",
    "TEST_X_COUNT = 10000\n",
    "CHANNEL_COUNT = 1\n",
    "CLASSES_COUNT = 10\n",
    "BLACK = 255\n",
    "BATCH_SIZE = 512\n",
    "EPOCHS=50"
   ]
  },
  {
   "cell_type": "code",
   "execution_count": 99,
   "metadata": {},
   "outputs": [],
   "source": [
    "def load_mnist():\n",
    "    IMAGES_FILE_HEADER_SIZE = 16\n",
    "    LABELS_FILE_HEADER_SIZE = 8\n",
    "\n",
    "    train_x = np.fromfile(DATASETS_DIR + \"train-images.idx3-ubyte\", dtype=np.uint8)\n",
    "    train_x = train_x[IMAGES_FILE_HEADER_SIZE:]\n",
    "    train_x = train_x.reshape((TRAIN_X_COUNT+DEV_X_COUNT, IMAGE_WIDTH, IMAGE_WIDTH, CHANNEL_COUNT)).astype(float)\n",
    "    dev_x = train_x[:DEV_X_COUNT]\n",
    "    train_x = train_x[DEV_X_COUNT:]\n",
    "\n",
    "    train_y = np.fromfile(DATASETS_DIR + \"train-labels.idx1-ubyte\", dtype=np.uint8)[LABELS_FILE_HEADER_SIZE:]\n",
    "    dev_y = train_y[:DEV_X_COUNT]\n",
    "    train_y = train_y[DEV_X_COUNT:]\n",
    "\n",
    "    test_x = np.fromfile(DATASETS_DIR + \"t10k-images.idx3-ubyte\", dtype=np.uint8)\n",
    "    test_x = test_x[IMAGES_FILE_HEADER_SIZE:]\n",
    "    test_x = test_x.reshape((TEST_X_COUNT, IMAGE_WIDTH, IMAGE_WIDTH, CHANNEL_COUNT)).astype(float)\n",
    "\n",
    "    test_y = np.fromfile(DATASETS_DIR + \"t10k-labels.idx1-ubyte\", dtype=np.uint8)[LABELS_FILE_HEADER_SIZE:]\n",
    "\n",
    "    return train_x, train_y, dev_x, dev_y, test_x, test_y"
   ]
  },
  {
   "cell_type": "code",
   "execution_count": 100,
   "metadata": {},
   "outputs": [],
   "source": [
    "def normalize(xs):\n",
    "    return xs/BLACK"
   ]
  },
  {
   "cell_type": "code",
   "execution_count": 101,
   "metadata": {},
   "outputs": [],
   "source": [
    "train_x, train_y, dev_x, dev_y, test_x, test_y = load_mnist()\n",
    "\n",
    "train_x = normalize(train_x)\n",
    "dev_x = normalize(dev_x)\n",
    "test_x = normalize(test_x)\n",
    "train_y = to_categorical(train_y, CLASSES_COUNT)\n",
    "dev_y = to_categorical(dev_y, CLASSES_COUNT)\n",
    "test_y = to_categorical(test_y, CLASSES_COUNT)"
   ]
  },
  {
   "cell_type": "code",
   "execution_count": 102,
   "metadata": {},
   "outputs": [],
   "source": [
    "def model_dense():\n",
    "    X_input = Input(shape=(IMAGE_WIDTH*IMAGE_WIDTH,))\n",
    "    X = Dense(CLASSES_COUNT)(X_input)\n",
    "    X = Softmax()(X)\n",
    "    return Model(inputs=X_input, outputs=X)"
   ]
  },
  {
   "cell_type": "code",
   "execution_count": 137,
   "metadata": {},
   "outputs": [],
   "source": [
    "def plot_accuracy(history, title, validation_set_label):\n",
    "    plt.plot(history.history['acc'])\n",
    "    plt.plot(history.history['val_acc'])\n",
    "    plt.title(title)\n",
    "    plt.ylabel('Accuracy')\n",
    "    plt.xlabel('Epoch')\n",
    "    plt.tick_params(axis='y', which='both', labelleft=True, labelright=True)\n",
    "    plt.legend(['Training set', validation_set_label], loc='right')\n",
    "    plt.show()"
   ]
  },
  {
   "cell_type": "code",
   "execution_count": 104,
   "metadata": {},
   "outputs": [
    {
     "name": "stdout",
     "output_type": "stream",
     "text": [
      "_________________________________________________________________\n",
      "Layer (type)                 Output Shape              Param #   \n",
      "=================================================================\n",
      "input_25 (InputLayer)        (None, 784)               0         \n",
      "_________________________________________________________________\n",
      "dense_25 (Dense)             (None, 10)                7850      \n",
      "_________________________________________________________________\n",
      "softmax_25 (Softmax)         (None, 10)                0         \n",
      "=================================================================\n",
      "Total params: 7,850\n",
      "Trainable params: 7,850\n",
      "Non-trainable params: 0\n",
      "_________________________________________________________________\n"
     ]
    }
   ],
   "source": [
    "baseline_model = model_dense()\n",
    "baseline_model.compile(optimizer=Adam(), loss='categorical_crossentropy', metrics=['accuracy'])\n",
    "baseline_model.summary()"
   ]
  },
  {
   "cell_type": "code",
   "execution_count": 105,
   "metadata": {},
   "outputs": [
    {
     "name": "stdout",
     "output_type": "stream",
     "text": [
      "Train on 50000 samples, validate on 10000 samples\n",
      "Epoch 1/50\n",
      "50000/50000 [==============================] - 1s 21us/step - loss: 1.1727 - acc: 0.7173 - val_loss: 0.6874 - val_acc: 0.8462\n",
      "Epoch 2/50\n",
      "50000/50000 [==============================] - 1s 12us/step - loss: 0.5836 - acc: 0.8633 - val_loss: 0.4954 - val_acc: 0.8782\n",
      "Epoch 3/50\n",
      "50000/50000 [==============================] - 1s 11us/step - loss: 0.4639 - acc: 0.8831 - val_loss: 0.4222 - val_acc: 0.8917\n",
      "Epoch 4/50\n",
      "50000/50000 [==============================] - 1s 12us/step - loss: 0.4087 - acc: 0.8934 - val_loss: 0.3830 - val_acc: 0.8999\n",
      "Epoch 5/50\n",
      "50000/50000 [==============================] - 1s 12us/step - loss: 0.3765 - acc: 0.9000 - val_loss: 0.3579 - val_acc: 0.9037\n",
      "Epoch 6/50\n",
      "50000/50000 [==============================] - 1s 11us/step - loss: 0.3546 - acc: 0.9055 - val_loss: 0.3418 - val_acc: 0.9082\n",
      "Epoch 7/50\n",
      "50000/50000 [==============================] - 1s 11us/step - loss: 0.3389 - acc: 0.9088 - val_loss: 0.3301 - val_acc: 0.9089\n",
      "Epoch 8/50\n",
      "50000/50000 [==============================] - 1s 11us/step - loss: 0.3272 - acc: 0.9115 - val_loss: 0.3199 - val_acc: 0.9125\n",
      "Epoch 9/50\n",
      "50000/50000 [==============================] - 1s 11us/step - loss: 0.3176 - acc: 0.9130 - val_loss: 0.3121 - val_acc: 0.9150\n",
      "Epoch 10/50\n",
      "50000/50000 [==============================] - 1s 11us/step - loss: 0.3098 - acc: 0.9150 - val_loss: 0.3064 - val_acc: 0.9153\n",
      "Epoch 11/50\n",
      "50000/50000 [==============================] - 1s 11us/step - loss: 0.3033 - acc: 0.9164 - val_loss: 0.3018 - val_acc: 0.9173\n",
      "Epoch 12/50\n",
      "50000/50000 [==============================] - 1s 11us/step - loss: 0.2979 - acc: 0.9180 - val_loss: 0.2968 - val_acc: 0.9181\n",
      "Epoch 13/50\n",
      "50000/50000 [==============================] - 1s 11us/step - loss: 0.2932 - acc: 0.9191 - val_loss: 0.2941 - val_acc: 0.9190\n",
      "Epoch 14/50\n",
      "50000/50000 [==============================] - 1s 11us/step - loss: 0.2889 - acc: 0.9203 - val_loss: 0.2912 - val_acc: 0.9203\n",
      "Epoch 15/50\n",
      "50000/50000 [==============================] - 1s 11us/step - loss: 0.2853 - acc: 0.9210 - val_loss: 0.2880 - val_acc: 0.9199\n",
      "Epoch 16/50\n",
      "50000/50000 [==============================] - 1s 11us/step - loss: 0.2823 - acc: 0.9220 - val_loss: 0.2864 - val_acc: 0.9196\n",
      "Epoch 17/50\n",
      "50000/50000 [==============================] - 1s 11us/step - loss: 0.2792 - acc: 0.9223 - val_loss: 0.2843 - val_acc: 0.9217\n",
      "Epoch 18/50\n",
      "50000/50000 [==============================] - 1s 11us/step - loss: 0.2768 - acc: 0.9238 - val_loss: 0.2831 - val_acc: 0.9204\n",
      "Epoch 19/50\n",
      "50000/50000 [==============================] - 1s 11us/step - loss: 0.2745 - acc: 0.9239 - val_loss: 0.2805 - val_acc: 0.9214\n",
      "Epoch 20/50\n",
      "50000/50000 [==============================] - 1s 11us/step - loss: 0.2723 - acc: 0.9242 - val_loss: 0.2793 - val_acc: 0.9211\n",
      "Epoch 21/50\n",
      "50000/50000 [==============================] - 1s 11us/step - loss: 0.2702 - acc: 0.9252 - val_loss: 0.2779 - val_acc: 0.9225\n",
      "Epoch 22/50\n",
      "50000/50000 [==============================] - 1s 11us/step - loss: 0.2684 - acc: 0.9251 - val_loss: 0.2776 - val_acc: 0.9226\n",
      "Epoch 23/50\n",
      "50000/50000 [==============================] - 1s 11us/step - loss: 0.2665 - acc: 0.9257 - val_loss: 0.2760 - val_acc: 0.9225\n",
      "Epoch 24/50\n",
      "50000/50000 [==============================] - 1s 11us/step - loss: 0.2647 - acc: 0.9266 - val_loss: 0.2754 - val_acc: 0.9219\n",
      "Epoch 25/50\n",
      "50000/50000 [==============================] - 1s 12us/step - loss: 0.2633 - acc: 0.9268 - val_loss: 0.2740 - val_acc: 0.9228\n",
      "Epoch 26/50\n",
      "50000/50000 [==============================] - 1s 11us/step - loss: 0.2620 - acc: 0.9272 - val_loss: 0.2723 - val_acc: 0.9237\n",
      "Epoch 27/50\n",
      "50000/50000 [==============================] - 1s 11us/step - loss: 0.2607 - acc: 0.9274 - val_loss: 0.2725 - val_acc: 0.9239\n",
      "Epoch 28/50\n",
      "50000/50000 [==============================] - 1s 11us/step - loss: 0.2592 - acc: 0.9281 - val_loss: 0.2725 - val_acc: 0.9242\n",
      "Epoch 29/50\n",
      "50000/50000 [==============================] - 1s 10us/step - loss: 0.2580 - acc: 0.9288 - val_loss: 0.2723 - val_acc: 0.9237\n",
      "Epoch 30/50\n",
      "50000/50000 [==============================] - 1s 11us/step - loss: 0.2569 - acc: 0.9287 - val_loss: 0.2717 - val_acc: 0.9237\n",
      "Epoch 31/50\n",
      "50000/50000 [==============================] - 1s 11us/step - loss: 0.2558 - acc: 0.9288 - val_loss: 0.2702 - val_acc: 0.9235\n",
      "Epoch 32/50\n",
      "50000/50000 [==============================] - 1s 11us/step - loss: 0.2548 - acc: 0.9299 - val_loss: 0.2701 - val_acc: 0.9248\n",
      "Epoch 33/50\n",
      "50000/50000 [==============================] - 1s 11us/step - loss: 0.2542 - acc: 0.9298 - val_loss: 0.2701 - val_acc: 0.9234\n",
      "Epoch 34/50\n",
      "50000/50000 [==============================] - 1s 11us/step - loss: 0.2531 - acc: 0.9307 - val_loss: 0.2685 - val_acc: 0.9236\n",
      "Epoch 35/50\n",
      "50000/50000 [==============================] - 1s 10us/step - loss: 0.2521 - acc: 0.9299 - val_loss: 0.2700 - val_acc: 0.9248\n",
      "Epoch 36/50\n",
      "50000/50000 [==============================] - 1s 11us/step - loss: 0.2513 - acc: 0.9307 - val_loss: 0.2692 - val_acc: 0.9235\n",
      "Epoch 37/50\n",
      "50000/50000 [==============================] - 1s 11us/step - loss: 0.2507 - acc: 0.9310 - val_loss: 0.2686 - val_acc: 0.9246\n",
      "Epoch 38/50\n",
      "50000/50000 [==============================] - 1s 11us/step - loss: 0.2499 - acc: 0.9308 - val_loss: 0.2685 - val_acc: 0.9237\n",
      "Epoch 39/50\n",
      "50000/50000 [==============================] - 1s 10us/step - loss: 0.2491 - acc: 0.9311 - val_loss: 0.2677 - val_acc: 0.9249\n",
      "Epoch 40/50\n",
      "50000/50000 [==============================] - 1s 11us/step - loss: 0.2484 - acc: 0.9320 - val_loss: 0.2678 - val_acc: 0.9244\n",
      "Epoch 41/50\n",
      "50000/50000 [==============================] - 1s 11us/step - loss: 0.2476 - acc: 0.9314 - val_loss: 0.2685 - val_acc: 0.9247\n",
      "Epoch 42/50\n",
      "50000/50000 [==============================] - 1s 11us/step - loss: 0.2472 - acc: 0.9319 - val_loss: 0.2697 - val_acc: 0.9239\n",
      "Epoch 43/50\n",
      "50000/50000 [==============================] - 1s 10us/step - loss: 0.2465 - acc: 0.9321 - val_loss: 0.2675 - val_acc: 0.9241\n",
      "Epoch 44/50\n",
      "50000/50000 [==============================] - 1s 11us/step - loss: 0.2458 - acc: 0.9325 - val_loss: 0.2674 - val_acc: 0.9242\n",
      "Epoch 45/50\n",
      "50000/50000 [==============================] - 1s 11us/step - loss: 0.2451 - acc: 0.9330 - val_loss: 0.2669 - val_acc: 0.9253\n",
      "Epoch 46/50\n",
      "50000/50000 [==============================] - 1s 11us/step - loss: 0.2443 - acc: 0.9324 - val_loss: 0.2694 - val_acc: 0.9244\n",
      "Epoch 47/50\n",
      "50000/50000 [==============================] - 1s 11us/step - loss: 0.2439 - acc: 0.9334 - val_loss: 0.2657 - val_acc: 0.9263\n",
      "Epoch 48/50\n",
      "50000/50000 [==============================] - 1s 11us/step - loss: 0.2433 - acc: 0.9327 - val_loss: 0.2666 - val_acc: 0.9246\n",
      "Epoch 49/50\n",
      "50000/50000 [==============================] - 1s 11us/step - loss: 0.2428 - acc: 0.9334 - val_loss: 0.2667 - val_acc: 0.9260\n",
      "Epoch 50/50\n",
      "50000/50000 [==============================] - 1s 11us/step - loss: 0.2425 - acc: 0.9334 - val_loss: 0.2679 - val_acc: 0.9244\n"
     ]
    }
   ],
   "source": [
    "baseline_model_history = baseline_model.fit(x=train_x.reshape((TRAIN_X_COUNT, IMAGE_WIDTH*IMAGE_WIDTH)),\n",
    "                                            y=train_y,\n",
    "                                            batch_size=BATCH_SIZE,\n",
    "                                            epochs=EPOCHS,\n",
    "                                            validation_data=(dev_x.reshape((DEV_X_COUNT, IMAGE_WIDTH*IMAGE_WIDTH)),\n",
    "                                                             dev_y),\n",
    "                                            shuffle=True)"
   ]
  },
  {
   "cell_type": "code",
   "execution_count": 185,
   "metadata": {},
   "outputs": [
    {
     "data": {
      "image/png": "[encoded data removed]",
      "text/plain": [
       "<Figure size 432x288 with 1 Axes>"
      ]
     },
     "metadata": {},
     "output_type": "display_data"
    }
   ],
   "source": [
    "plot_accuracy(baseline_model_history, 'Baseline Model', 'Dev set')"
   ]
  },
  {
   "cell_type": "markdown",
   "metadata": {},
   "source": [
    "The baseline model - a single fully connected layer - achieves a training set accuracy of 93% and a dev set accuracy of 92%. Let's assume human-level performance is 100% accuracy. This means the avoidable bias of this model is 100% - 93% = 7%, and variance is 93% - 92% = 1%. Since avoidable bias is bigger, it would be best to focus on reducing that to improve the performance of our network most quickly.\n",
    "\n",
    "Let's try a more complex network - a convolutional neural network (CNN)."
   ]
  },
  {
   "cell_type": "code",
   "execution_count": 107,
   "metadata": {},
   "outputs": [],
   "source": [
    "def model_single_layer_cnn():\n",
    "    X_input = Input(shape=(IMAGE_WIDTH, IMAGE_WIDTH, 1))\n",
    "    X = Conv2D(filters=15, kernel_size=4, activation='elu')(X_input)\n",
    "    X = Flatten()(X)\n",
    "    X = Dense(CLASSES_COUNT)(X)\n",
    "    X = Softmax()(X)\n",
    "    return Model(inputs=X_input, outputs=X)"
   ]
  },
  {
   "cell_type": "code",
   "execution_count": 108,
   "metadata": {},
   "outputs": [
    {
     "name": "stdout",
     "output_type": "stream",
     "text": [
      "_________________________________________________________________\n",
      "Layer (type)                 Output Shape              Param #   \n",
      "=================================================================\n",
      "input_26 (InputLayer)        (None, 28, 28, 1)         0         \n",
      "_________________________________________________________________\n",
      "conv2d_40 (Conv2D)           (None, 25, 25, 15)        255       \n",
      "_________________________________________________________________\n",
      "flatten_24 (Flatten)         (None, 9375)              0         \n",
      "_________________________________________________________________\n",
      "dense_26 (Dense)             (None, 10)                93760     \n",
      "_________________________________________________________________\n",
      "softmax_26 (Softmax)         (None, 10)                0         \n",
      "=================================================================\n",
      "Total params: 94,015\n",
      "Trainable params: 94,015\n",
      "Non-trainable params: 0\n",
      "_________________________________________________________________\n"
     ]
    }
   ],
   "source": [
    "cnn_model1 = model_single_layer_cnn()\n",
    "cnn_model1.compile(optimizer=Adam(), loss='categorical_crossentropy', metrics=['accuracy'])\n",
    "cnn_model1.summary()"
   ]
  },
  {
   "cell_type": "code",
   "execution_count": 109,
   "metadata": {},
   "outputs": [
    {
     "name": "stdout",
     "output_type": "stream",
     "text": [
      "Train on 50000 samples, validate on 10000 samples\n",
      "Epoch 1/50\n",
      "50000/50000 [==============================] - 1s 27us/step - loss: 0.5344 - acc: 0.8557 - val_loss: 0.3075 - val_acc: 0.9137\n",
      "Epoch 2/50\n",
      "50000/50000 [==============================] - 1s 14us/step - loss: 0.3007 - acc: 0.9135 - val_loss: 0.2866 - val_acc: 0.9210\n",
      "Epoch 3/50\n",
      "50000/50000 [==============================] - 1s 15us/step - loss: 0.2821 - acc: 0.9202 - val_loss: 0.2722 - val_acc: 0.9225\n",
      "Epoch 4/50\n",
      "50000/50000 [==============================] - 1s 14us/step - loss: 0.2680 - acc: 0.9237 - val_loss: 0.2735 - val_acc: 0.9222\n",
      "Epoch 5/50\n",
      "50000/50000 [==============================] - 1s 14us/step - loss: 0.2543 - acc: 0.9292 - val_loss: 0.2524 - val_acc: 0.9293\n",
      "Epoch 6/50\n",
      "50000/50000 [==============================] - 1s 15us/step - loss: 0.2397 - acc: 0.9329 - val_loss: 0.2465 - val_acc: 0.9296\n",
      "Epoch 7/50\n",
      "50000/50000 [==============================] - 1s 15us/step - loss: 0.2220 - acc: 0.9378 - val_loss: 0.2280 - val_acc: 0.9346\n",
      "Epoch 8/50\n",
      "50000/50000 [==============================] - 1s 14us/step - loss: 0.2010 - acc: 0.9438 - val_loss: 0.2092 - val_acc: 0.9409\n",
      "Epoch 9/50\n",
      "50000/50000 [==============================] - 1s 15us/step - loss: 0.1801 - acc: 0.9500 - val_loss: 0.1881 - val_acc: 0.9474\n",
      "Epoch 10/50\n",
      "50000/50000 [==============================] - 1s 14us/step - loss: 0.1567 - acc: 0.9567 - val_loss: 0.1716 - val_acc: 0.9506\n",
      "Epoch 11/50\n",
      "50000/50000 [==============================] - 1s 15us/step - loss: 0.1363 - acc: 0.9617 - val_loss: 0.1562 - val_acc: 0.9552\n",
      "Epoch 12/50\n",
      "50000/50000 [==============================] - 1s 14us/step - loss: 0.1192 - acc: 0.9667 - val_loss: 0.1419 - val_acc: 0.9617\n",
      "Epoch 13/50\n",
      "50000/50000 [==============================] - 1s 14us/step - loss: 0.1061 - acc: 0.9708 - val_loss: 0.1365 - val_acc: 0.9609\n",
      "Epoch 14/50\n",
      "50000/50000 [==============================] - 1s 15us/step - loss: 0.0963 - acc: 0.9735 - val_loss: 0.1273 - val_acc: 0.9652\n",
      "Epoch 15/50\n",
      "50000/50000 [==============================] - 1s 14us/step - loss: 0.0859 - acc: 0.9757 - val_loss: 0.1147 - val_acc: 0.9676\n",
      "Epoch 16/50\n",
      "50000/50000 [==============================] - 1s 14us/step - loss: 0.0773 - acc: 0.9782 - val_loss: 0.1146 - val_acc: 0.9677\n",
      "Epoch 17/50\n",
      "50000/50000 [==============================] - 1s 14us/step - loss: 0.0724 - acc: 0.9798 - val_loss: 0.1165 - val_acc: 0.9667\n",
      "Epoch 18/50\n",
      "50000/50000 [==============================] - 1s 14us/step - loss: 0.0679 - acc: 0.9807 - val_loss: 0.1045 - val_acc: 0.9700\n",
      "Epoch 19/50\n",
      "50000/50000 [==============================] - 1s 15us/step - loss: 0.0621 - acc: 0.9825 - val_loss: 0.0974 - val_acc: 0.9719\n",
      "Epoch 20/50\n",
      "50000/50000 [==============================] - 1s 14us/step - loss: 0.0580 - acc: 0.9837 - val_loss: 0.1009 - val_acc: 0.9704\n",
      "Epoch 21/50\n",
      "50000/50000 [==============================] - 1s 14us/step - loss: 0.0557 - acc: 0.9839 - val_loss: 0.0942 - val_acc: 0.9735\n",
      "Epoch 22/50\n",
      "50000/50000 [==============================] - 1s 14us/step - loss: 0.0510 - acc: 0.9858 - val_loss: 0.0957 - val_acc: 0.9719\n",
      "Epoch 23/50\n",
      "50000/50000 [==============================] - 1s 14us/step - loss: 0.0485 - acc: 0.9861 - val_loss: 0.0956 - val_acc: 0.9704\n",
      "Epoch 24/50\n",
      "50000/50000 [==============================] - 1s 14us/step - loss: 0.0460 - acc: 0.9864 - val_loss: 0.0932 - val_acc: 0.9721\n",
      "Epoch 25/50\n",
      "50000/50000 [==============================] - 1s 14us/step - loss: 0.0436 - acc: 0.9876 - val_loss: 0.0910 - val_acc: 0.9741\n",
      "Epoch 26/50\n",
      "50000/50000 [==============================] - 1s 14us/step - loss: 0.0409 - acc: 0.9887 - val_loss: 0.0946 - val_acc: 0.9733\n",
      "Epoch 27/50\n",
      "50000/50000 [==============================] - 1s 14us/step - loss: 0.0396 - acc: 0.9884 - val_loss: 0.0937 - val_acc: 0.9716\n",
      "Epoch 28/50\n",
      "50000/50000 [==============================] - 1s 15us/step - loss: 0.0380 - acc: 0.9890 - val_loss: 0.0903 - val_acc: 0.9742\n",
      "Epoch 29/50\n",
      "50000/50000 [==============================] - 1s 14us/step - loss: 0.0336 - acc: 0.9908 - val_loss: 0.0917 - val_acc: 0.9736\n",
      "Epoch 30/50\n",
      "50000/50000 [==============================] - 1s 14us/step - loss: 0.0326 - acc: 0.9908 - val_loss: 0.0877 - val_acc: 0.9756\n",
      "Epoch 31/50\n",
      "50000/50000 [==============================] - 1s 14us/step - loss: 0.0318 - acc: 0.9909 - val_loss: 0.0903 - val_acc: 0.9745\n",
      "Epoch 32/50\n",
      "50000/50000 [==============================] - 1s 14us/step - loss: 0.0297 - acc: 0.9917 - val_loss: 0.0906 - val_acc: 0.9744\n",
      "Epoch 33/50\n",
      "50000/50000 [==============================] - 1s 14us/step - loss: 0.0291 - acc: 0.9916 - val_loss: 0.0917 - val_acc: 0.9741\n",
      "Epoch 34/50\n",
      "50000/50000 [==============================] - 1s 14us/step - loss: 0.0276 - acc: 0.9919 - val_loss: 0.0894 - val_acc: 0.9764\n",
      "Epoch 35/50\n",
      "50000/50000 [==============================] - 1s 14us/step - loss: 0.0255 - acc: 0.9926 - val_loss: 0.0885 - val_acc: 0.9739\n",
      "Epoch 36/50\n",
      "50000/50000 [==============================] - 1s 14us/step - loss: 0.0243 - acc: 0.9934 - val_loss: 0.0920 - val_acc: 0.9742\n",
      "Epoch 37/50\n",
      "50000/50000 [==============================] - 1s 14us/step - loss: 0.0242 - acc: 0.9930 - val_loss: 0.0872 - val_acc: 0.9758\n",
      "Epoch 38/50\n",
      "50000/50000 [==============================] - 1s 14us/step - loss: 0.0213 - acc: 0.9942 - val_loss: 0.0884 - val_acc: 0.9752\n",
      "Epoch 39/50\n",
      "50000/50000 [==============================] - 1s 15us/step - loss: 0.0206 - acc: 0.9945 - val_loss: 0.0866 - val_acc: 0.9754\n",
      "Epoch 40/50\n",
      "50000/50000 [==============================] - 1s 14us/step - loss: 0.0190 - acc: 0.9949 - val_loss: 0.0888 - val_acc: 0.9765\n",
      "Epoch 41/50\n",
      "50000/50000 [==============================] - 1s 14us/step - loss: 0.0191 - acc: 0.9949 - val_loss: 0.0890 - val_acc: 0.9762\n",
      "Epoch 42/50\n",
      "50000/50000 [==============================] - 1s 14us/step - loss: 0.0177 - acc: 0.9955 - val_loss: 0.0903 - val_acc: 0.9749\n",
      "Epoch 43/50\n",
      "50000/50000 [==============================] - 1s 14us/step - loss: 0.0172 - acc: 0.9954 - val_loss: 0.0889 - val_acc: 0.9760\n",
      "Epoch 44/50\n",
      "50000/50000 [==============================] - 1s 15us/step - loss: 0.0172 - acc: 0.9954 - val_loss: 0.0894 - val_acc: 0.9765\n",
      "Epoch 45/50\n",
      "50000/50000 [==============================] - 1s 14us/step - loss: 0.0150 - acc: 0.9962 - val_loss: 0.0951 - val_acc: 0.9758\n",
      "Epoch 46/50\n",
      "50000/50000 [==============================] - 1s 14us/step - loss: 0.0142 - acc: 0.9964 - val_loss: 0.0901 - val_acc: 0.9758\n",
      "Epoch 47/50\n",
      "50000/50000 [==============================] - 1s 14us/step - loss: 0.0132 - acc: 0.9974 - val_loss: 0.0960 - val_acc: 0.9749\n",
      "Epoch 48/50\n",
      "50000/50000 [==============================] - 1s 14us/step - loss: 0.0133 - acc: 0.9971 - val_loss: 0.0957 - val_acc: 0.9755\n",
      "Epoch 49/50\n",
      "50000/50000 [==============================] - 1s 14us/step - loss: 0.0125 - acc: 0.9970 - val_loss: 0.0970 - val_acc: 0.9749\n",
      "Epoch 50/50\n",
      "50000/50000 [==============================] - 1s 14us/step - loss: 0.0121 - acc: 0.9974 - val_loss: 0.0929 - val_acc: 0.9756\n"
     ]
    }
   ],
   "source": [
    "cnn_model1_history = cnn_model1.fit(x=train_x, y=train_y, batch_size=BATCH_SIZE, epochs=EPOCHS,\n",
    "                                    validation_data=(dev_x, dev_y), shuffle=True)"
   ]
  },
  {
   "cell_type": "code",
   "execution_count": 139,
   "metadata": {},
   "outputs": [
    {
     "data": {
      "image/png": "[encoded data removed]",
      "text/plain": [
       "<Figure size 432x288 with 1 Axes>"
      ]
     },
     "metadata": {},
     "output_type": "display_data"
    }
   ],
   "source": [
    "plot_accuracy(cnn_model1_history, 'CNN1 Model', 'Dev set')"
   ]
  },
  {
   "cell_type": "markdown",
   "metadata": {},
   "source": [
    "This model achieves 99.7% accuracy on the training set and 97.5% accuracy on the dev set. This gives us 0.3% avoidable bias (100% - 99.7%) and 2.2% variance (99.7% - 97.5%). Now variance is the larger factor, so let's focus on reducing it.\n",
    "\n",
    "One way we can try to reduce variance is by adding dropout after the Conv2D layer. After settling on a dropout rate of 0.2, I achieved 98.0% accuracy on the dev set. Adding another Conv2D layer and another Dropout layer got me even a bit higher, to 98.4%."
   ]
  },
  {
   "cell_type": "code",
   "execution_count": 111,
   "metadata": {},
   "outputs": [],
   "source": [
    "def model_double_layer_cnn():\n",
    "    X_input = Input(shape=(IMAGE_WIDTH, IMAGE_WIDTH, 1))\n",
    "    X = Conv2D(filters=15, kernel_size=4, activation='elu')(X_input)\n",
    "    X = Dropout(0.2)(X)\n",
    "    X = Conv2D(filters=50, kernel_size=4, strides=2, activation='elu')(X)\n",
    "    X = Flatten()(X)\n",
    "    X = Dropout(0.2)(X)\n",
    "    X = Dense(CLASSES_COUNT)(X)\n",
    "    X = Softmax()(X)\n",
    "    return Model(inputs=X_input, outputs=X)"
   ]
  },
  {
   "cell_type": "code",
   "execution_count": 112,
   "metadata": {},
   "outputs": [
    {
     "name": "stdout",
     "output_type": "stream",
     "text": [
      "_________________________________________________________________\n",
      "Layer (type)                 Output Shape              Param #   \n",
      "=================================================================\n",
      "input_27 (InputLayer)        (None, 28, 28, 1)         0         \n",
      "_________________________________________________________________\n",
      "conv2d_41 (Conv2D)           (None, 25, 25, 15)        255       \n",
      "_________________________________________________________________\n",
      "dropout_26 (Dropout)         (None, 25, 25, 15)        0         \n",
      "_________________________________________________________________\n",
      "conv2d_42 (Conv2D)           (None, 11, 11, 50)        12050     \n",
      "_________________________________________________________________\n",
      "flatten_25 (Flatten)         (None, 6050)              0         \n",
      "_________________________________________________________________\n",
      "dropout_27 (Dropout)         (None, 6050)              0         \n",
      "_________________________________________________________________\n",
      "dense_27 (Dense)             (None, 10)                60510     \n",
      "_________________________________________________________________\n",
      "softmax_27 (Softmax)         (None, 10)                0         \n",
      "=================================================================\n",
      "Total params: 72,815\n",
      "Trainable params: 72,815\n",
      "Non-trainable params: 0\n",
      "_________________________________________________________________\n"
     ]
    }
   ],
   "source": [
    "cnn_model2 = model_double_layer_cnn()\n",
    "cnn_model2.compile(optimizer=Adam(), loss='categorical_crossentropy', metrics=['accuracy'])\n",
    "cnn_model2.summary()"
   ]
  },
  {
   "cell_type": "code",
   "execution_count": 113,
   "metadata": {},
   "outputs": [
    {
     "name": "stdout",
     "output_type": "stream",
     "text": [
      "Train on 50000 samples, validate on 10000 samples\n",
      "Epoch 1/50\n",
      "50000/50000 [==============================] - 2s 34us/step - loss: 0.5485 - acc: 0.8486 - val_loss: 0.2993 - val_acc: 0.9146\n",
      "Epoch 2/50\n",
      "50000/50000 [==============================] - 1s 21us/step - loss: 0.2886 - acc: 0.9167 - val_loss: 0.2402 - val_acc: 0.9316\n",
      "Epoch 3/50\n",
      "50000/50000 [==============================] - 1s 21us/step - loss: 0.2038 - acc: 0.9413 - val_loss: 0.1516 - val_acc: 0.9582\n",
      "Epoch 4/50\n",
      "50000/50000 [==============================] - 1s 20us/step - loss: 0.1281 - acc: 0.9625 - val_loss: 0.1075 - val_acc: 0.9701\n",
      "Epoch 5/50\n",
      "50000/50000 [==============================] - 1s 21us/step - loss: 0.0981 - acc: 0.9707 - val_loss: 0.0940 - val_acc: 0.9732\n",
      "Epoch 6/50\n",
      "50000/50000 [==============================] - 1s 20us/step - loss: 0.0836 - acc: 0.9740 - val_loss: 0.0794 - val_acc: 0.9773\n",
      "Epoch 7/50\n",
      "50000/50000 [==============================] - 1s 21us/step - loss: 0.0725 - acc: 0.9777 - val_loss: 0.0814 - val_acc: 0.9770\n",
      "Epoch 8/50\n",
      "50000/50000 [==============================] - 1s 21us/step - loss: 0.0673 - acc: 0.9792 - val_loss: 0.0869 - val_acc: 0.9767\n",
      "Epoch 9/50\n",
      "50000/50000 [==============================] - 1s 21us/step - loss: 0.0652 - acc: 0.9792 - val_loss: 0.0741 - val_acc: 0.9799\n",
      "Epoch 10/50\n",
      "50000/50000 [==============================] - 1s 21us/step - loss: 0.0584 - acc: 0.9810 - val_loss: 0.0751 - val_acc: 0.9806\n",
      "Epoch 11/50\n",
      "50000/50000 [==============================] - 1s 21us/step - loss: 0.0545 - acc: 0.9828 - val_loss: 0.0716 - val_acc: 0.9803\n",
      "Epoch 12/50\n",
      "50000/50000 [==============================] - 1s 21us/step - loss: 0.0529 - acc: 0.9835 - val_loss: 0.0734 - val_acc: 0.9793\n",
      "Epoch 13/50\n",
      "50000/50000 [==============================] - 1s 21us/step - loss: 0.0482 - acc: 0.9845 - val_loss: 0.0736 - val_acc: 0.9809\n",
      "Epoch 14/50\n",
      "50000/50000 [==============================] - 1s 21us/step - loss: 0.0479 - acc: 0.9846 - val_loss: 0.0725 - val_acc: 0.9813\n",
      "Epoch 15/50\n",
      "50000/50000 [==============================] - 1s 21us/step - loss: 0.0466 - acc: 0.9847 - val_loss: 0.0779 - val_acc: 0.9798\n",
      "Epoch 16/50\n",
      "50000/50000 [==============================] - 1s 20us/step - loss: 0.0446 - acc: 0.9852 - val_loss: 0.0731 - val_acc: 0.9815\n",
      "Epoch 17/50\n",
      "50000/50000 [==============================] - 1s 21us/step - loss: 0.0418 - acc: 0.9857 - val_loss: 0.0762 - val_acc: 0.9815\n",
      "Epoch 18/50\n",
      "50000/50000 [==============================] - 1s 20us/step - loss: 0.0425 - acc: 0.9867 - val_loss: 0.0713 - val_acc: 0.9828\n",
      "Epoch 19/50\n",
      "50000/50000 [==============================] - 1s 21us/step - loss: 0.0399 - acc: 0.9871 - val_loss: 0.0749 - val_acc: 0.9824\n",
      "Epoch 20/50\n",
      "50000/50000 [==============================] - 1s 21us/step - loss: 0.0375 - acc: 0.9878 - val_loss: 0.0710 - val_acc: 0.9822\n",
      "Epoch 21/50\n",
      "50000/50000 [==============================] - 1s 21us/step - loss: 0.0362 - acc: 0.9874 - val_loss: 0.0745 - val_acc: 0.9816\n",
      "Epoch 22/50\n",
      "50000/50000 [==============================] - 1s 21us/step - loss: 0.0348 - acc: 0.9884 - val_loss: 0.0725 - val_acc: 0.9827\n",
      "Epoch 23/50\n",
      "50000/50000 [==============================] - 1s 21us/step - loss: 0.0334 - acc: 0.9888 - val_loss: 0.0822 - val_acc: 0.9816\n",
      "Epoch 24/50\n",
      "50000/50000 [==============================] - 1s 20us/step - loss: 0.0344 - acc: 0.9884 - val_loss: 0.0744 - val_acc: 0.9833\n",
      "Epoch 25/50\n",
      "50000/50000 [==============================] - 1s 20us/step - loss: 0.0339 - acc: 0.9882 - val_loss: 0.0752 - val_acc: 0.9826\n",
      "Epoch 26/50\n",
      "50000/50000 [==============================] - 1s 21us/step - loss: 0.0326 - acc: 0.9891 - val_loss: 0.0717 - val_acc: 0.9839\n",
      "Epoch 27/50\n",
      "50000/50000 [==============================] - 1s 21us/step - loss: 0.0338 - acc: 0.9894 - val_loss: 0.0885 - val_acc: 0.9801\n",
      "Epoch 28/50\n",
      "50000/50000 [==============================] - 1s 21us/step - loss: 0.0321 - acc: 0.9896 - val_loss: 0.0807 - val_acc: 0.9835\n",
      "Epoch 29/50\n",
      "50000/50000 [==============================] - 1s 20us/step - loss: 0.0275 - acc: 0.9903 - val_loss: 0.0764 - val_acc: 0.9828\n",
      "Epoch 30/50\n",
      "50000/50000 [==============================] - 1s 21us/step - loss: 0.0269 - acc: 0.9907 - val_loss: 0.0774 - val_acc: 0.9842\n",
      "Epoch 31/50\n",
      "50000/50000 [==============================] - 1s 20us/step - loss: 0.0265 - acc: 0.9914 - val_loss: 0.0793 - val_acc: 0.9842\n",
      "Epoch 32/50\n",
      "50000/50000 [==============================] - 1s 21us/step - loss: 0.0284 - acc: 0.9901 - val_loss: 0.0827 - val_acc: 0.9836\n",
      "Epoch 33/50\n",
      "50000/50000 [==============================] - 1s 21us/step - loss: 0.0269 - acc: 0.9911 - val_loss: 0.0789 - val_acc: 0.9847\n",
      "Epoch 34/50\n",
      "50000/50000 [==============================] - 1s 20us/step - loss: 0.0234 - acc: 0.9917 - val_loss: 0.0813 - val_acc: 0.9846\n",
      "Epoch 35/50\n",
      "50000/50000 [==============================] - 1s 20us/step - loss: 0.0234 - acc: 0.9921 - val_loss: 0.0832 - val_acc: 0.9834\n",
      "Epoch 36/50\n",
      "50000/50000 [==============================] - 1s 21us/step - loss: 0.0245 - acc: 0.9918 - val_loss: 0.0811 - val_acc: 0.9832\n",
      "Epoch 37/50\n",
      "50000/50000 [==============================] - 1s 20us/step - loss: 0.0224 - acc: 0.9925 - val_loss: 0.0800 - val_acc: 0.9848\n",
      "Epoch 38/50\n",
      "50000/50000 [==============================] - 1s 20us/step - loss: 0.0232 - acc: 0.9919 - val_loss: 0.0852 - val_acc: 0.9843\n",
      "Epoch 39/50\n",
      "50000/50000 [==============================] - 1s 20us/step - loss: 0.0218 - acc: 0.9923 - val_loss: 0.0839 - val_acc: 0.9843\n",
      "Epoch 40/50\n",
      "50000/50000 [==============================] - 1s 20us/step - loss: 0.0237 - acc: 0.9922 - val_loss: 0.0858 - val_acc: 0.9844\n",
      "Epoch 41/50\n",
      "50000/50000 [==============================] - 1s 20us/step - loss: 0.0231 - acc: 0.9923 - val_loss: 0.0895 - val_acc: 0.9824\n",
      "Epoch 42/50\n",
      "50000/50000 [==============================] - 1s 20us/step - loss: 0.0211 - acc: 0.9931 - val_loss: 0.0907 - val_acc: 0.9832\n",
      "Epoch 43/50\n",
      "50000/50000 [==============================] - 1s 20us/step - loss: 0.0243 - acc: 0.9918 - val_loss: 0.0895 - val_acc: 0.9830\n",
      "Epoch 44/50\n",
      "50000/50000 [==============================] - 1s 21us/step - loss: 0.0197 - acc: 0.9929 - val_loss: 0.0895 - val_acc: 0.9847\n",
      "Epoch 45/50\n",
      "50000/50000 [==============================] - 1s 20us/step - loss: 0.0196 - acc: 0.9935 - val_loss: 0.0902 - val_acc: 0.9833\n",
      "Epoch 46/50\n",
      "50000/50000 [==============================] - 1s 20us/step - loss: 0.0224 - acc: 0.9925 - val_loss: 0.0903 - val_acc: 0.9842\n",
      "Epoch 47/50\n",
      "50000/50000 [==============================] - 1s 21us/step - loss: 0.0221 - acc: 0.9928 - val_loss: 0.0892 - val_acc: 0.9840\n",
      "Epoch 48/50\n",
      "50000/50000 [==============================] - 1s 20us/step - loss: 0.0210 - acc: 0.9933 - val_loss: 0.0921 - val_acc: 0.9838\n",
      "Epoch 49/50\n",
      "50000/50000 [==============================] - 1s 20us/step - loss: 0.0197 - acc: 0.9937 - val_loss: 0.0901 - val_acc: 0.9845\n",
      "Epoch 50/50\n",
      "50000/50000 [==============================] - 1s 20us/step - loss: 0.0182 - acc: 0.9940 - val_loss: 0.0910 - val_acc: 0.9842\n"
     ]
    }
   ],
   "source": [
    "cnn_model2_history = cnn_model2.fit(x=train_x, y=train_y, batch_size=BATCH_SIZE, epochs=EPOCHS,\n",
    "                                    validation_data=(dev_x, dev_y), shuffle=True)"
   ]
  },
  {
   "cell_type": "code",
   "execution_count": 140,
   "metadata": {},
   "outputs": [
    {
     "data": {
      "image/png": "[encoded data removed]",
      "text/plain": [
       "<Figure size 432x288 with 1 Axes>"
      ]
     },
     "metadata": {},
     "output_type": "display_data"
    }
   ],
   "source": [
    "plot_accuracy(cnn_model2_history, 'CNN2 Model', 'Dev set')"
   ]
  },
  {
   "cell_type": "markdown",
   "metadata": {},
   "source": [
    "We have lost some training accuracy (down to 99.4% from 99.7%) due to our Dropout layers in exchange for better performance on our dev set (up to 98.4% from 97.5%).\n",
    "\n",
    "We can probably do better with an even more complex network. Let's try adding another Conv2D layer, as well as pooling and batch normalization layers."
   ]
  },
  {
   "cell_type": "code",
   "execution_count": 179,
   "metadata": {},
   "outputs": [],
   "source": [
    "def model_triple_layer_cnn():\n",
    "    X_input = Input(shape=(IMAGE_WIDTH, IMAGE_WIDTH, 1))\n",
    "    X = Conv2D(filters=15, kernel_size=3, activation='elu')(X_input)\n",
    "    X = MaxPooling2D(2)(X)\n",
    "    X = BatchNormalization()(X)\n",
    "    X = Dropout(0.2)(X)\n",
    "    X = Conv2D(filters=30, kernel_size=4, activation='elu')(X)\n",
    "    X = MaxPooling2D(2)(X)\n",
    "    X = BatchNormalization()(X)\n",
    "    X = Dropout(0.2)(X)\n",
    "    X = Conv2D(filters=50, kernel_size=5, activation='elu')(X)\n",
    "    X = Flatten()(X)\n",
    "    X = BatchNormalization()(X)\n",
    "    X = Dropout(0.2)(X)\n",
    "    X = Dense(CLASSES_COUNT)(X)\n",
    "    X = Softmax()(X)\n",
    "    return Model(inputs=X_input, outputs=X)"
   ]
  },
  {
   "cell_type": "code",
   "execution_count": 180,
   "metadata": {},
   "outputs": [
    {
     "name": "stdout",
     "output_type": "stream",
     "text": [
      "_________________________________________________________________\n",
      "Layer (type)                 Output Shape              Param #   \n",
      "=================================================================\n",
      "input_43 (InputLayer)        (None, 28, 28, 1)         0         \n",
      "_________________________________________________________________\n",
      "conv2d_84 (Conv2D)           (None, 26, 26, 15)        150       \n",
      "_________________________________________________________________\n",
      "max_pooling2d_31 (MaxPooling (None, 13, 13, 15)        0         \n",
      "_________________________________________________________________\n",
      "batch_normalization_40 (Batc (None, 13, 13, 15)        60        \n",
      "_________________________________________________________________\n",
      "dropout_69 (Dropout)         (None, 13, 13, 15)        0         \n",
      "_________________________________________________________________\n",
      "conv2d_85 (Conv2D)           (None, 10, 10, 30)        7230      \n",
      "_________________________________________________________________\n",
      "max_pooling2d_32 (MaxPooling (None, 5, 5, 30)          0         \n",
      "_________________________________________________________________\n",
      "batch_normalization_41 (Batc (None, 5, 5, 30)          120       \n",
      "_________________________________________________________________\n",
      "dropout_70 (Dropout)         (None, 5, 5, 30)          0         \n",
      "_________________________________________________________________\n",
      "conv2d_86 (Conv2D)           (None, 1, 1, 50)          37550     \n",
      "_________________________________________________________________\n",
      "flatten_41 (Flatten)         (None, 50)                0         \n",
      "_________________________________________________________________\n",
      "batch_normalization_42 (Batc (None, 50)                200       \n",
      "_________________________________________________________________\n",
      "dropout_71 (Dropout)         (None, 50)                0         \n",
      "_________________________________________________________________\n",
      "dense_43 (Dense)             (None, 10)                510       \n",
      "_________________________________________________________________\n",
      "softmax_43 (Softmax)         (None, 10)                0         \n",
      "=================================================================\n",
      "Total params: 45,820\n",
      "Trainable params: 45,630\n",
      "Non-trainable params: 190\n",
      "_________________________________________________________________\n"
     ]
    }
   ],
   "source": [
    "cnn_model3 = model_triple_layer_cnn()\n",
    "cnn_model3.compile(optimizer=Adam(), loss='categorical_crossentropy', metrics=['accuracy'])\n",
    "cnn_model3.summary()"
   ]
  },
  {
   "cell_type": "code",
   "execution_count": 181,
   "metadata": {},
   "outputs": [
    {
     "name": "stdout",
     "output_type": "stream",
     "text": [
      "Train on 50000 samples, validate on 10000 samples\n",
      "Epoch 1/50\n",
      "50000/50000 [==============================] - 4s 75us/step - loss: 0.4844 - acc: 0.8531 - val_loss: 0.3850 - val_acc: 0.8857\n",
      "Epoch 2/50\n",
      "50000/50000 [==============================] - 1s 28us/step - loss: 0.1675 - acc: 0.9523 - val_loss: 0.4371 - val_acc: 0.8738\n",
      "Epoch 3/50\n",
      "50000/50000 [==============================] - 1s 28us/step - loss: 0.1138 - acc: 0.9674 - val_loss: 0.3531 - val_acc: 0.8978\n",
      "Epoch 4/50\n",
      "50000/50000 [==============================] - 1s 27us/step - loss: 0.0932 - acc: 0.9722 - val_loss: 0.1393 - val_acc: 0.9578\n",
      "Epoch 5/50\n",
      "50000/50000 [==============================] - 1s 28us/step - loss: 0.0798 - acc: 0.9762 - val_loss: 0.0892 - val_acc: 0.9716\n",
      "Epoch 6/50\n",
      "50000/50000 [==============================] - 1s 27us/step - loss: 0.0704 - acc: 0.9787 - val_loss: 0.0877 - val_acc: 0.9724\n",
      "Epoch 7/50\n",
      "50000/50000 [==============================] - 1s 27us/step - loss: 0.0635 - acc: 0.9812 - val_loss: 0.0504 - val_acc: 0.9851\n",
      "Epoch 8/50\n",
      "50000/50000 [==============================] - 1s 26us/step - loss: 0.0589 - acc: 0.9814 - val_loss: 0.0506 - val_acc: 0.9856\n",
      "Epoch 9/50\n",
      "50000/50000 [==============================] - 1s 27us/step - loss: 0.0567 - acc: 0.9822 - val_loss: 0.0492 - val_acc: 0.9853\n",
      "Epoch 10/50\n",
      "50000/50000 [==============================] - 1s 27us/step - loss: 0.0501 - acc: 0.9844 - val_loss: 0.0410 - val_acc: 0.9876\n",
      "Epoch 11/50\n",
      "50000/50000 [==============================] - 1s 27us/step - loss: 0.0484 - acc: 0.9847 - val_loss: 0.0419 - val_acc: 0.9874\n",
      "Epoch 12/50\n",
      "50000/50000 [==============================] - 1s 27us/step - loss: 0.0439 - acc: 0.9863 - val_loss: 0.0423 - val_acc: 0.9870\n",
      "Epoch 13/50\n",
      "50000/50000 [==============================] - 1s 28us/step - loss: 0.0427 - acc: 0.9869 - val_loss: 0.0455 - val_acc: 0.9866\n",
      "Epoch 14/50\n",
      "50000/50000 [==============================] - 1s 27us/step - loss: 0.0411 - acc: 0.9865 - val_loss: 0.0430 - val_acc: 0.9874\n",
      "Epoch 15/50\n",
      "50000/50000 [==============================] - 1s 27us/step - loss: 0.0373 - acc: 0.9885 - val_loss: 0.0432 - val_acc: 0.9876\n",
      "Epoch 16/50\n",
      "50000/50000 [==============================] - 1s 27us/step - loss: 0.0366 - acc: 0.9884 - val_loss: 0.0380 - val_acc: 0.9887\n",
      "Epoch 17/50\n",
      "50000/50000 [==============================] - 1s 27us/step - loss: 0.0350 - acc: 0.9885 - val_loss: 0.0358 - val_acc: 0.9897\n",
      "Epoch 18/50\n",
      "50000/50000 [==============================] - 1s 27us/step - loss: 0.0358 - acc: 0.9890 - val_loss: 0.0417 - val_acc: 0.9882\n",
      "Epoch 19/50\n",
      "50000/50000 [==============================] - 1s 27us/step - loss: 0.0332 - acc: 0.9890 - val_loss: 0.0334 - val_acc: 0.9895\n",
      "Epoch 20/50\n",
      "50000/50000 [==============================] - 1s 27us/step - loss: 0.0317 - acc: 0.9896 - val_loss: 0.0350 - val_acc: 0.9890\n",
      "Epoch 21/50\n",
      "50000/50000 [==============================] - 1s 27us/step - loss: 0.0303 - acc: 0.9899 - val_loss: 0.0361 - val_acc: 0.9895\n",
      "Epoch 22/50\n",
      "50000/50000 [==============================] - 1s 27us/step - loss: 0.0302 - acc: 0.9903 - val_loss: 0.0336 - val_acc: 0.9904\n",
      "Epoch 23/50\n",
      "50000/50000 [==============================] - 1s 27us/step - loss: 0.0302 - acc: 0.9901 - val_loss: 0.0331 - val_acc: 0.9895\n",
      "Epoch 24/50\n",
      "50000/50000 [==============================] - 1s 27us/step - loss: 0.0274 - acc: 0.9909 - val_loss: 0.0334 - val_acc: 0.9897\n",
      "Epoch 25/50\n",
      "50000/50000 [==============================] - 1s 26us/step - loss: 0.0273 - acc: 0.9911 - val_loss: 0.0316 - val_acc: 0.9907\n",
      "Epoch 26/50\n",
      "50000/50000 [==============================] - 1s 27us/step - loss: 0.0285 - acc: 0.9908 - val_loss: 0.0349 - val_acc: 0.9902\n",
      "Epoch 27/50\n",
      "50000/50000 [==============================] - 1s 28us/step - loss: 0.0252 - acc: 0.9915 - val_loss: 0.0375 - val_acc: 0.9890\n",
      "Epoch 28/50\n",
      "50000/50000 [==============================] - 1s 27us/step - loss: 0.0250 - acc: 0.9917 - val_loss: 0.0321 - val_acc: 0.9911\n",
      "Epoch 29/50\n",
      "50000/50000 [==============================] - 1s 28us/step - loss: 0.0224 - acc: 0.9927 - val_loss: 0.0326 - val_acc: 0.9903\n",
      "Epoch 30/50\n",
      "50000/50000 [==============================] - 1s 27us/step - loss: 0.0247 - acc: 0.9918 - val_loss: 0.0368 - val_acc: 0.9900\n",
      "Epoch 31/50\n",
      "50000/50000 [==============================] - 1s 27us/step - loss: 0.0225 - acc: 0.9924 - val_loss: 0.0396 - val_acc: 0.9884\n",
      "Epoch 32/50\n",
      "50000/50000 [==============================] - 1s 27us/step - loss: 0.0241 - acc: 0.9921 - val_loss: 0.0382 - val_acc: 0.9894\n",
      "Epoch 33/50\n",
      "50000/50000 [==============================] - 1s 27us/step - loss: 0.0234 - acc: 0.9920 - val_loss: 0.0422 - val_acc: 0.9877\n",
      "Epoch 34/50\n",
      "50000/50000 [==============================] - 1s 26us/step - loss: 0.0203 - acc: 0.9931 - val_loss: 0.0408 - val_acc: 0.9891\n",
      "Epoch 35/50\n",
      "50000/50000 [==============================] - 1s 26us/step - loss: 0.0210 - acc: 0.9931 - val_loss: 0.0427 - val_acc: 0.9876\n",
      "Epoch 36/50\n",
      "50000/50000 [==============================] - 1s 26us/step - loss: 0.0215 - acc: 0.9924 - val_loss: 0.0333 - val_acc: 0.9897\n",
      "Epoch 37/50\n",
      "50000/50000 [==============================] - 1s 26us/step - loss: 0.0206 - acc: 0.9930 - val_loss: 0.0329 - val_acc: 0.9910\n",
      "Epoch 38/50\n",
      "50000/50000 [==============================] - 1s 27us/step - loss: 0.0217 - acc: 0.9925 - val_loss: 0.0366 - val_acc: 0.9895\n",
      "Epoch 39/50\n",
      "50000/50000 [==============================] - 1s 27us/step - loss: 0.0203 - acc: 0.9932 - val_loss: 0.0398 - val_acc: 0.9880\n",
      "Epoch 40/50\n",
      "50000/50000 [==============================] - 1s 27us/step - loss: 0.0193 - acc: 0.9937 - val_loss: 0.0362 - val_acc: 0.9896\n",
      "Epoch 41/50\n",
      "50000/50000 [==============================] - 1s 26us/step - loss: 0.0178 - acc: 0.9941 - val_loss: 0.0352 - val_acc: 0.9901\n",
      "Epoch 42/50\n",
      "50000/50000 [==============================] - 1s 27us/step - loss: 0.0195 - acc: 0.9935 - val_loss: 0.0352 - val_acc: 0.9908\n",
      "Epoch 43/50\n",
      "50000/50000 [==============================] - 1s 27us/step - loss: 0.0193 - acc: 0.9936 - val_loss: 0.0334 - val_acc: 0.9907\n",
      "Epoch 44/50\n",
      "50000/50000 [==============================] - 1s 27us/step - loss: 0.0181 - acc: 0.9940 - val_loss: 0.0361 - val_acc: 0.9904\n",
      "Epoch 45/50\n",
      "50000/50000 [==============================] - 1s 27us/step - loss: 0.0200 - acc: 0.9934 - val_loss: 0.0341 - val_acc: 0.9908\n",
      "Epoch 46/50\n",
      "50000/50000 [==============================] - 1s 27us/step - loss: 0.0177 - acc: 0.9940 - val_loss: 0.0371 - val_acc: 0.9903\n",
      "Epoch 47/50\n",
      "50000/50000 [==============================] - 1s 27us/step - loss: 0.0188 - acc: 0.9936 - val_loss: 0.0350 - val_acc: 0.9902\n",
      "Epoch 48/50\n",
      "50000/50000 [==============================] - 1s 27us/step - loss: 0.0175 - acc: 0.9945 - val_loss: 0.0370 - val_acc: 0.9903\n",
      "Epoch 49/50\n",
      "50000/50000 [==============================] - 1s 27us/step - loss: 0.0170 - acc: 0.9941 - val_loss: 0.0315 - val_acc: 0.9911\n",
      "Epoch 50/50\n",
      "50000/50000 [==============================] - 1s 27us/step - loss: 0.0167 - acc: 0.9940 - val_loss: 0.0353 - val_acc: 0.9902\n"
     ]
    }
   ],
   "source": [
    "cnn_model3_history = cnn_model3.fit(x=train_x, y=train_y, batch_size=BATCH_SIZE, epochs=EPOCHS,\n",
    "                                    validation_data=(dev_x, dev_y), shuffle=True)"
   ]
  },
  {
   "cell_type": "code",
   "execution_count": 182,
   "metadata": {},
   "outputs": [
    {
     "data": {
      "image/png": "[encoded data removed]",
      "text/plain": [
       "<Figure size 432x288 with 1 Axes>"
      ]
     },
     "metadata": {},
     "output_type": "display_data"
    }
   ],
   "source": [
    "plot_accuracy(cnn_model3_history, 'CNN3 Model', 'Dev set')"
   ]
  },
  {
   "cell_type": "markdown",
   "metadata": {},
   "source": [
    "All right, we have achieved 99.0% dev set accuracy.\n",
    "\n",
    "Finally, let's see how we do on the test set."
   ]
  },
  {
   "cell_type": "code",
   "execution_count": 183,
   "metadata": {},
   "outputs": [
    {
     "name": "stdout",
     "output_type": "stream",
     "text": [
      "10000/10000 [==============================] - 0s 12us/step\n"
     ]
    },
    {
     "data": {
      "text/plain": [
       "0.9932999998092651"
      ]
     },
     "execution_count": 183,
     "metadata": {},
     "output_type": "execute_result"
    }
   ],
   "source": [
    "cnn_model3.evaluate(x=test_x, y=test_y, batch_size=BATCH_SIZE)[1]"
   ]
  },
  {
   "cell_type": "markdown",
   "metadata": {},
   "source": [
    "We do even better on our test set - 99.3% accuracy."
   ]
  }
 ],
 "metadata": {
  "kernelspec": {
   "display_name": "Python 3",
   "language": "python",
   "name": "python3"
  },
  "language_info": {
   "codemirror_mode": {
    "name": "ipython",
    "version": 3
   },
   "file_extension": ".py",
   "mimetype": "text/x-python",
   "name": "python",
   "nbconvert_exporter": "python",
   "pygments_lexer": "ipython3",
   "version": "3.6.3"
  }
 },
 "nbformat": 4,
 "nbformat_minor": 2
}
