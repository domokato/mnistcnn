{
 "cells": [
  {
   "cell_type": "markdown",
   "metadata": {},
   "source": [
    "# MNIST Autoencoders in Keras (WIP) - Ken Chua\n",
    "## 1. Autoencoder\n",
    "Autoencoders use one neural network (called the \"encoder\") to process some input x into a smaller representation z,  for such purposes as compression and denoising. For training purposes (and decompression), a second network (called the \"decoder\") is used to grow z back to the original input dimension. The output of the decoder is diffed against the original input to the encoder and taken as loss to train the entire model.\n",
    "<img src=\"https://upload.wikimedia.org/wikipedia/commons/2/28/Autoencoder_structure.png\" />\n",
    "The following CNN-based autoencoder for MNIST digits has a 98:9 compression ratio (28x28x1 pixels to 3x3x8) with mean absolute error (MAE) of only 0.025 on the test set."
   ]
  },
  {
   "cell_type": "code",
   "execution_count": 1,
   "metadata": {},
   "outputs": [
    {
     "name": "stderr",
     "output_type": "stream",
     "text": [
      "/opt/conda/lib/python3.6/site-packages/h5py/__init__.py:36: FutureWarning: Conversion of the second argument of issubdtype from `float` to `np.floating` is deprecated. In future, it will be treated as `np.float64 == np.dtype(float).type`.\n",
      "  from ._conv import register_converters as _register_converters\n",
      "Using TensorFlow backend.\n"
     ]
    }
   ],
   "source": [
    "from keras import backend as K\n",
    "from keras import metrics\n",
    "from keras import Model\n",
    "from keras.layers import Activation, BatchNormalization, Conv2D, Conv2DTranspose, Dense, ELU, Flatten, Input, Lambda, MaxPooling2D, Reshape, UpSampling2D\n",
    "from keras.optimizers import Adam\n",
    "import matplotlib.pyplot as plt\n",
    "import mnistutils as mnist\n",
    "import numpy as np\n",
    "import plotutils as pu\n",
    "from scipy.stats import norm"
   ]
  },
  {
   "cell_type": "code",
   "execution_count": 2,
   "metadata": {},
   "outputs": [],
   "source": [
    "np.random.seed(0)"
   ]
  },
  {
   "cell_type": "code",
   "execution_count": 3,
   "metadata": {},
   "outputs": [],
   "source": [
    "BATCH_SIZE = 512\n",
    "EPOCHS = 50"
   ]
  },
  {
   "cell_type": "code",
   "execution_count": 4,
   "metadata": {},
   "outputs": [],
   "source": [
    "train_x, _, dev_x, _, test_x, test_y = mnist.load()\n",
    "\n",
    "train_x = mnist.normalize(train_x)\n",
    "dev_x = mnist.normalize(dev_x)\n",
    "test_x = mnist.normalize(test_x)"
   ]
  },
  {
   "cell_type": "code",
   "execution_count": 5,
   "metadata": {},
   "outputs": [],
   "source": [
    "def model_encoder():\n",
    "    X_input = Input(shape=(mnist.IMAGE_WIDTH, mnist.IMAGE_WIDTH, mnist.CHANNEL_COUNT))\n",
    "    X = Conv2D(filters=32, kernel_size=3)(X_input)\n",
    "    X = BatchNormalization()(X)\n",
    "    X = ELU()(X)\n",
    "    X = MaxPooling2D(2)(X)\n",
    "    X = Conv2D(filters=16, kernel_size=3)(X)\n",
    "    X = BatchNormalization()(X)\n",
    "    X = ELU()(X)\n",
    "    X = MaxPooling2D(2)(X)\n",
    "    X = Conv2D(filters=8, kernel_size=3, activation='elu')(X)\n",
    "    return Model(inputs=X_input, outputs=X, name='encoder')"
   ]
  },
  {
   "cell_type": "code",
   "execution_count": 6,
   "metadata": {},
   "outputs": [
    {
     "name": "stdout",
     "output_type": "stream",
     "text": [
      "_________________________________________________________________\n",
      "Layer (type)                 Output Shape              Param #   \n",
      "=================================================================\n",
      "input_1 (InputLayer)         (None, 28, 28, 1)         0         \n",
      "_________________________________________________________________\n",
      "conv2d_1 (Conv2D)            (None, 26, 26, 32)        320       \n",
      "_________________________________________________________________\n",
      "batch_normalization_1 (Batch (None, 26, 26, 32)        128       \n",
      "_________________________________________________________________\n",
      "elu_1 (ELU)                  (None, 26, 26, 32)        0         \n",
      "_________________________________________________________________\n",
      "max_pooling2d_1 (MaxPooling2 (None, 13, 13, 32)        0         \n",
      "_________________________________________________________________\n",
      "conv2d_2 (Conv2D)            (None, 11, 11, 16)        4624      \n",
      "_________________________________________________________________\n",
      "batch_normalization_2 (Batch (None, 11, 11, 16)        64        \n",
      "_________________________________________________________________\n",
      "elu_2 (ELU)                  (None, 11, 11, 16)        0         \n",
      "_________________________________________________________________\n",
      "max_pooling2d_2 (MaxPooling2 (None, 5, 5, 16)          0         \n",
      "_________________________________________________________________\n",
      "conv2d_3 (Conv2D)            (None, 3, 3, 8)           1160      \n",
      "=================================================================\n",
      "Total params: 6,296\n",
      "Trainable params: 6,200\n",
      "Non-trainable params: 96\n",
      "_________________________________________________________________\n"
     ]
    }
   ],
   "source": [
    "encoder = model_encoder()\n",
    "encoder.summary()"
   ]
  },
  {
   "cell_type": "code",
   "execution_count": 7,
   "metadata": {},
   "outputs": [],
   "source": [
    "def model_decoder():\n",
    "    X_input = Input(shape=(3, 3, 8))\n",
    "    X = Conv2DTranspose(filters=8, kernel_size=3)(X_input)\n",
    "    X = BatchNormalization()(X)\n",
    "    X = ELU()(X)\n",
    "    X = UpSampling2D(2)(X)\n",
    "    X = Conv2DTranspose(filters=16, kernel_size=4)(X)\n",
    "    X = BatchNormalization()(X)\n",
    "    X = ELU()(X)\n",
    "    X = UpSampling2D(2)(X)\n",
    "    X = Conv2DTranspose(filters=mnist.CHANNEL_COUNT, kernel_size=3, activation='sigmoid')(X)\n",
    "    return Model(inputs=X_input, outputs=X, name='decoder')"
   ]
  },
  {
   "cell_type": "code",
   "execution_count": 8,
   "metadata": {},
   "outputs": [
    {
     "name": "stdout",
     "output_type": "stream",
     "text": [
      "_________________________________________________________________\n",
      "Layer (type)                 Output Shape              Param #   \n",
      "=================================================================\n",
      "input_2 (InputLayer)         (None, 3, 3, 8)           0         \n",
      "_________________________________________________________________\n",
      "conv2d_transpose_1 (Conv2DTr (None, 5, 5, 8)           584       \n",
      "_________________________________________________________________\n",
      "batch_normalization_3 (Batch (None, 5, 5, 8)           32        \n",
      "_________________________________________________________________\n",
      "elu_3 (ELU)                  (None, 5, 5, 8)           0         \n",
      "_________________________________________________________________\n",
      "up_sampling2d_1 (UpSampling2 (None, 10, 10, 8)         0         \n",
      "_________________________________________________________________\n",
      "conv2d_transpose_2 (Conv2DTr (None, 13, 13, 16)        2064      \n",
      "_________________________________________________________________\n",
      "batch_normalization_4 (Batch (None, 13, 13, 16)        64        \n",
      "_________________________________________________________________\n",
      "elu_4 (ELU)                  (None, 13, 13, 16)        0         \n",
      "_________________________________________________________________\n",
      "up_sampling2d_2 (UpSampling2 (None, 26, 26, 16)        0         \n",
      "_________________________________________________________________\n",
      "conv2d_transpose_3 (Conv2DTr (None, 28, 28, 1)         145       \n",
      "=================================================================\n",
      "Total params: 2,889\n",
      "Trainable params: 2,841\n",
      "Non-trainable params: 48\n",
      "_________________________________________________________________\n"
     ]
    }
   ],
   "source": [
    "decoder = model_decoder()\n",
    "decoder.summary()"
   ]
  },
  {
   "cell_type": "code",
   "execution_count": 9,
   "metadata": {},
   "outputs": [],
   "source": [
    "def model_autoencoder(encoder, decoder):\n",
    "    X_input = encoder.inputs\n",
    "    X = encoder(X_input)\n",
    "    X = decoder(X)\n",
    "    return Model(inputs=X_input, outputs=X)"
   ]
  },
  {
   "cell_type": "code",
   "execution_count": 10,
   "metadata": {},
   "outputs": [
    {
     "name": "stdout",
     "output_type": "stream",
     "text": [
      "_________________________________________________________________\n",
      "Layer (type)                 Output Shape              Param #   \n",
      "=================================================================\n",
      "input_1 (InputLayer)         (None, 28, 28, 1)         0         \n",
      "_________________________________________________________________\n",
      "encoder (Model)              (None, 3, 3, 8)           6296      \n",
      "_________________________________________________________________\n",
      "decoder (Model)              (None, 28, 28, 1)         2889      \n",
      "=================================================================\n",
      "Total params: 9,185\n",
      "Trainable params: 9,041\n",
      "Non-trainable params: 144\n",
      "_________________________________________________________________\n"
     ]
    }
   ],
   "source": [
    "autoencoder = model_autoencoder(encoder, decoder)\n",
    "autoencoder.compile(optimizer=Adam(), loss='mean_squared_error', metrics=['mae'])\n",
    "autoencoder.summary()"
   ]
  },
  {
   "cell_type": "markdown",
   "metadata": {},
   "source": [
    "Simply inputting the training data as <code>y</code> (as well as <code>x</code>) will perform the diff to calculate the loss for training:"
   ]
  },
  {
   "cell_type": "code",
   "execution_count": 114,
   "metadata": {},
   "outputs": [
    {
     "name": "stdout",
     "output_type": "stream",
     "text": [
      "Train on 50000 samples, validate on 10000 samples\n",
      "Epoch 1/50\n",
      "50000/50000 [==============================] - 3s 66us/step - loss: 0.0922 - mean_absolute_error: 0.2442 - val_loss: 0.0482 - val_mean_absolute_error: 0.1528\n",
      "Epoch 2/50\n",
      "50000/50000 [==============================] - 2s 39us/step - loss: 0.0307 - mean_absolute_error: 0.1058 - val_loss: 0.0356 - val_mean_absolute_error: 0.1079\n",
      "Epoch 3/50\n",
      "50000/50000 [==============================] - 2s 38us/step - loss: 0.0226 - mean_absolute_error: 0.0776 - val_loss: 0.0269 - val_mean_absolute_error: 0.0845\n",
      "Epoch 4/50\n",
      "50000/50000 [==============================] - 2s 39us/step - loss: 0.0190 - mean_absolute_error: 0.0650 - val_loss: 0.0228 - val_mean_absolute_error: 0.0723\n",
      "Epoch 5/50\n",
      "50000/50000 [==============================] - 2s 39us/step - loss: 0.0168 - mean_absolute_error: 0.0576 - val_loss: 0.0192 - val_mean_absolute_error: 0.0629\n",
      "Epoch 6/50\n",
      "50000/50000 [==============================] - 2s 38us/step - loss: 0.0151 - mean_absolute_error: 0.0525 - val_loss: 0.0175 - val_mean_absolute_error: 0.0577\n",
      "Epoch 7/50\n",
      "50000/50000 [==============================] - 2s 38us/step - loss: 0.0140 - mean_absolute_error: 0.0488 - val_loss: 0.0146 - val_mean_absolute_error: 0.0509\n",
      "Epoch 8/50\n",
      "50000/50000 [==============================] - 2s 39us/step - loss: 0.0131 - mean_absolute_error: 0.0460 - val_loss: 0.0136 - val_mean_absolute_error: 0.0476\n",
      "Epoch 9/50\n",
      "50000/50000 [==============================] - 2s 39us/step - loss: 0.0124 - mean_absolute_error: 0.0438 - val_loss: 0.0127 - val_mean_absolute_error: 0.0450\n",
      "Epoch 10/50\n",
      "50000/50000 [==============================] - 2s 39us/step - loss: 0.0118 - mean_absolute_error: 0.0421 - val_loss: 0.0117 - val_mean_absolute_error: 0.0426\n",
      "Epoch 11/50\n",
      "50000/50000 [==============================] - 2s 39us/step - loss: 0.0114 - mean_absolute_error: 0.0407 - val_loss: 0.0113 - val_mean_absolute_error: 0.0412\n",
      "Epoch 12/50\n",
      "50000/50000 [==============================] - 2s 38us/step - loss: 0.0110 - mean_absolute_error: 0.0395 - val_loss: 0.0107 - val_mean_absolute_error: 0.0396\n",
      "Epoch 13/50\n",
      "50000/50000 [==============================] - 2s 38us/step - loss: 0.0106 - mean_absolute_error: 0.0385 - val_loss: 0.0104 - val_mean_absolute_error: 0.0387\n",
      "Epoch 14/50\n",
      "50000/50000 [==============================] - 2s 38us/step - loss: 0.0103 - mean_absolute_error: 0.0376 - val_loss: 0.0102 - val_mean_absolute_error: 0.0377\n",
      "Epoch 15/50\n",
      "50000/50000 [==============================] - 2s 38us/step - loss: 0.0101 - mean_absolute_error: 0.0369 - val_loss: 0.0100 - val_mean_absolute_error: 0.0372\n",
      "Epoch 16/50\n",
      "50000/50000 [==============================] - 2s 39us/step - loss: 0.0099 - mean_absolute_error: 0.0363 - val_loss: 0.0098 - val_mean_absolute_error: 0.0362\n",
      "Epoch 17/50\n",
      "50000/50000 [==============================] - 2s 38us/step - loss: 0.0097 - mean_absolute_error: 0.0357 - val_loss: 0.0095 - val_mean_absolute_error: 0.0359\n",
      "Epoch 18/50\n",
      "50000/50000 [==============================] - 2s 38us/step - loss: 0.0094 - mean_absolute_error: 0.0351 - val_loss: 0.0093 - val_mean_absolute_error: 0.0351\n",
      "Epoch 19/50\n",
      "50000/50000 [==============================] - 2s 38us/step - loss: 0.0093 - mean_absolute_error: 0.0347 - val_loss: 0.0091 - val_mean_absolute_error: 0.0343\n",
      "Epoch 20/50\n",
      "50000/50000 [==============================] - 2s 38us/step - loss: 0.0092 - mean_absolute_error: 0.0342 - val_loss: 0.0090 - val_mean_absolute_error: 0.0340\n",
      "Epoch 21/50\n",
      "50000/50000 [==============================] - 2s 39us/step - loss: 0.0090 - mean_absolute_error: 0.0338 - val_loss: 0.0089 - val_mean_absolute_error: 0.0334\n",
      "Epoch 22/50\n",
      "50000/50000 [==============================] - 2s 38us/step - loss: 0.0089 - mean_absolute_error: 0.0335 - val_loss: 0.0090 - val_mean_absolute_error: 0.0336\n",
      "Epoch 23/50\n",
      "50000/50000 [==============================] - 2s 38us/step - loss: 0.0088 - mean_absolute_error: 0.0331 - val_loss: 0.0087 - val_mean_absolute_error: 0.0330\n",
      "Epoch 24/50\n",
      "50000/50000 [==============================] - 2s 39us/step - loss: 0.0087 - mean_absolute_error: 0.0328 - val_loss: 0.0089 - val_mean_absolute_error: 0.0334\n",
      "Epoch 25/50\n",
      "50000/50000 [==============================] - 2s 38us/step - loss: 0.0086 - mean_absolute_error: 0.0326 - val_loss: 0.0085 - val_mean_absolute_error: 0.0325\n",
      "Epoch 26/50\n",
      "50000/50000 [==============================] - 2s 38us/step - loss: 0.0085 - mean_absolute_error: 0.0323 - val_loss: 0.0084 - val_mean_absolute_error: 0.0323\n",
      "Epoch 27/50\n",
      "50000/50000 [==============================] - 2s 38us/step - loss: 0.0084 - mean_absolute_error: 0.0321 - val_loss: 0.0085 - val_mean_absolute_error: 0.0324\n",
      "Epoch 28/50\n",
      "50000/50000 [==============================] - 2s 38us/step - loss: 0.0083 - mean_absolute_error: 0.0318 - val_loss: 0.0087 - val_mean_absolute_error: 0.0328\n",
      "Epoch 29/50\n",
      "50000/50000 [==============================] - 2s 38us/step - loss: 0.0083 - mean_absolute_error: 0.0316 - val_loss: 0.0082 - val_mean_absolute_error: 0.0314\n",
      "Epoch 30/50\n",
      "50000/50000 [==============================] - 2s 38us/step - loss: 0.0082 - mean_absolute_error: 0.0314 - val_loss: 0.0081 - val_mean_absolute_error: 0.0312\n",
      "Epoch 31/50\n",
      "50000/50000 [==============================] - 2s 39us/step - loss: 0.0081 - mean_absolute_error: 0.0312 - val_loss: 0.0081 - val_mean_absolute_error: 0.0308\n",
      "Epoch 32/50\n",
      "50000/50000 [==============================] - 2s 38us/step - loss: 0.0080 - mean_absolute_error: 0.0310 - val_loss: 0.0081 - val_mean_absolute_error: 0.0310\n",
      "Epoch 33/50\n",
      "50000/50000 [==============================] - 2s 39us/step - loss: 0.0080 - mean_absolute_error: 0.0309 - val_loss: 0.0080 - val_mean_absolute_error: 0.0309\n",
      "Epoch 34/50\n",
      "50000/50000 [==============================] - 2s 38us/step - loss: 0.0080 - mean_absolute_error: 0.0308 - val_loss: 0.0078 - val_mean_absolute_error: 0.0306\n",
      "Epoch 35/50\n",
      "50000/50000 [==============================] - 2s 38us/step - loss: 0.0079 - mean_absolute_error: 0.0306 - val_loss: 0.0078 - val_mean_absolute_error: 0.0305\n",
      "Epoch 36/50\n",
      "50000/50000 [==============================] - 2s 38us/step - loss: 0.0078 - mean_absolute_error: 0.0304 - val_loss: 0.0078 - val_mean_absolute_error: 0.0305\n",
      "Epoch 37/50\n",
      "50000/50000 [==============================] - 2s 38us/step - loss: 0.0078 - mean_absolute_error: 0.0303 - val_loss: 0.0079 - val_mean_absolute_error: 0.0306\n",
      "Epoch 38/50\n",
      "50000/50000 [==============================] - 2s 38us/step - loss: 0.0077 - mean_absolute_error: 0.0302 - val_loss: 0.0076 - val_mean_absolute_error: 0.0299\n",
      "Epoch 39/50\n",
      "50000/50000 [==============================] - 2s 38us/step - loss: 0.0077 - mean_absolute_error: 0.0300 - val_loss: 0.0076 - val_mean_absolute_error: 0.0297\n",
      "Epoch 40/50\n",
      "50000/50000 [==============================] - 2s 37us/step - loss: 0.0077 - mean_absolute_error: 0.0299 - val_loss: 0.0076 - val_mean_absolute_error: 0.0296\n",
      "Epoch 41/50\n",
      "50000/50000 [==============================] - 2s 38us/step - loss: 0.0076 - mean_absolute_error: 0.0298 - val_loss: 0.0076 - val_mean_absolute_error: 0.0294\n",
      "Epoch 42/50\n",
      "50000/50000 [==============================] - 2s 38us/step - loss: 0.0076 - mean_absolute_error: 0.0297 - val_loss: 0.0075 - val_mean_absolute_error: 0.0296\n",
      "Epoch 43/50\n",
      "50000/50000 [==============================] - 2s 38us/step - loss: 0.0075 - mean_absolute_error: 0.0295 - val_loss: 0.0074 - val_mean_absolute_error: 0.0293\n",
      "Epoch 44/50\n",
      "50000/50000 [==============================] - 2s 37us/step - loss: 0.0075 - mean_absolute_error: 0.0294 - val_loss: 0.0074 - val_mean_absolute_error: 0.0292\n",
      "Epoch 45/50\n",
      "50000/50000 [==============================] - 2s 38us/step - loss: 0.0074 - mean_absolute_error: 0.0293 - val_loss: 0.0075 - val_mean_absolute_error: 0.0289\n",
      "Epoch 46/50\n",
      "50000/50000 [==============================] - 2s 38us/step - loss: 0.0074 - mean_absolute_error: 0.0292 - val_loss: 0.0074 - val_mean_absolute_error: 0.0291\n",
      "Epoch 47/50\n",
      "50000/50000 [==============================] - 2s 37us/step - loss: 0.0074 - mean_absolute_error: 0.0291 - val_loss: 0.0073 - val_mean_absolute_error: 0.0288\n",
      "Epoch 48/50\n",
      "50000/50000 [==============================] - 2s 38us/step - loss: 0.0073 - mean_absolute_error: 0.0290 - val_loss: 0.0073 - val_mean_absolute_error: 0.0286\n"
     ]
    },
    {
     "name": "stdout",
     "output_type": "stream",
     "text": [
      "Epoch 49/50\n",
      "50000/50000 [==============================] - 2s 39us/step - loss: 0.0073 - mean_absolute_error: 0.0289 - val_loss: 0.0073 - val_mean_absolute_error: 0.0284\n",
      "Epoch 50/50\n",
      "50000/50000 [==============================] - 2s 39us/step - loss: 0.0073 - mean_absolute_error: 0.0288 - val_loss: 0.0073 - val_mean_absolute_error: 0.0291\n"
     ]
    }
   ],
   "source": [
    "autoencoder_history = autoencoder.fit(x=train_x, y=train_x, epochs=EPOCHS, batch_size=BATCH_SIZE, shuffle=True,\n",
    "                                      validation_data=(dev_x, dev_x))"
   ]
  },
  {
   "cell_type": "code",
   "execution_count": 115,
   "metadata": {},
   "outputs": [
    {
     "name": "stdout",
     "output_type": "stream",
     "text": [
      "10000/10000 [==============================] - 0s 19us/step\n",
      "MAE: 0.029\n"
     ]
    }
   ],
   "source": [
    "print(\"MAE: {0:.2g}\".format(autoencoder.evaluate(x=test_x, y=test_x, batch_size=BATCH_SIZE)[1]))"
   ]
  },
  {
   "cell_type": "code",
   "execution_count": 154,
   "metadata": {},
   "outputs": [],
   "source": [
    "def compare_autoencoded_mnist_digits(original_images, encoded_images, decoded_images):\n",
    "    count = len(decoded_images)\n",
    "    plt.style.use('default')\n",
    "    plt.figure(figsize=(11, 3.5))  \n",
    "    plt.gray()\n",
    "    for i in range(count):\n",
    "        row = plt.subplot(3, count, i+1)\n",
    "        plt.imshow(original_images[i].reshape(mnist.IMAGE_WIDTH, mnist.IMAGE_WIDTH))\n",
    "        row.get_xaxis().set_visible(False)\n",
    "        row.get_yaxis().set_visible(False)\n",
    "\n",
    "        row = plt.subplot(3, count, count + i+1)\n",
    "        plt.imshow(encoded_images[i].reshape(9, 8))  # is actually 3x3x8, but flatten to 9x8 to visualize\n",
    "        row.get_xaxis().set_visible(False)\n",
    "        row.get_yaxis().set_visible(False)\n",
    "\n",
    "        row = plt.subplot(3, count, 2*count + i+1)\n",
    "        plt.imshow(decoded_images[i].reshape(mnist.IMAGE_WIDTH, mnist.IMAGE_WIDTH))\n",
    "        row.get_xaxis().set_visible(False)\n",
    "        row.get_yaxis().set_visible(False)\n",
    "    plt.show()"
   ]
  },
  {
   "cell_type": "code",
   "execution_count": 155,
   "metadata": {},
   "outputs": [
    {
     "data": {
      "image/png": "[encoded data removed]",
      "text/plain": [
       "<Figure size 1100x350 with 30 Axes>"
      ]
     },
     "metadata": {},
     "output_type": "display_data"
    }
   ],
   "source": [
    "original_images = test_x[:10]\n",
    "encoded_images = encoder.predict(original_images)\n",
    "decoded_images = decoder.predict(encoded_images)\n",
    "compare_autoencoded_mnist_digits(original_images, encoded_images, decoded_images)"
   ]
  },
  {
   "cell_type": "markdown",
   "metadata": {},
   "source": [
    "These are some digits from our test set before and after compression (top and middle rows, respectively), and also after decompression (bottom row). We can see that the lossiness is minimal."
   ]
  }
 ],
 "metadata": {
  "kernelspec": {
   "display_name": "Python 3",
   "language": "python",
   "name": "python3"
  },
  "language_info": {
   "codemirror_mode": {
    "name": "ipython",
    "version": 3
   },
   "file_extension": ".py",
   "mimetype": "text/x-python",
   "name": "python",
   "nbconvert_exporter": "python",
   "pygments_lexer": "ipython3",
   "version": "3.6.3"
  }
 },
 "nbformat": 4,
 "nbformat_minor": 2
}
